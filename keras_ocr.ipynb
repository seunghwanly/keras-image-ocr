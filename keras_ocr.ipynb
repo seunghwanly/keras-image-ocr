{
 "cells": [
  {
   "cell_type": "code",
   "execution_count": 3,
   "metadata": {},
   "outputs": [
    {
     "name": "stdout",
     "output_type": "stream",
     "text": [
      "Collecting keras-ocr\n",
      "  Downloading keras-ocr-0.8.6.tar.gz (56 kB)\n",
      "\u001b[K     |████████████████████████████████| 56 kB 622 kB/s eta 0:00:01\n",
      "\u001b[?25hCollecting essential_generators\n",
      "  Downloading essential_generators-1.0-py3-none-any.whl (9.5 MB)\n",
      "\u001b[K     |████████████████████████████████| 9.5 MB 844 kB/s eta 0:00:01\n",
      "\u001b[?25hCollecting tqdm\n",
      "  Downloading tqdm-4.58.0-py2.py3-none-any.whl (73 kB)\n",
      "\u001b[K     |████████████████████████████████| 73 kB 1.4 MB/s eta 0:00:01\n",
      "\u001b[?25hCollecting imgaug\n",
      "  Downloading imgaug-0.4.0-py2.py3-none-any.whl (948 kB)\n",
      "\u001b[K     |████████████████████████████████| 948 kB 1.3 MB/s eta 0:00:01\n",
      "\u001b[?25hCollecting validators\n",
      "  Downloading validators-0.18.2-py3-none-any.whl (19 kB)\n",
      "Collecting fonttools\n",
      "  Downloading fonttools-4.21.1-py3-none-any.whl (849 kB)\n",
      "\u001b[K     |████████████████████████████████| 849 kB 1.5 MB/s eta 0:00:01\n",
      "\u001b[?25hRequirement already satisfied: editdistance in /usr/local/lib/python3.8/site-packages (from keras-ocr) (0.5.3)\n",
      "Collecting pyclipper\n",
      "  Downloading pyclipper-1.2.1-cp38-cp38-macosx_10_9_x86_64.whl (134 kB)\n",
      "\u001b[K     |████████████████████████████████| 134 kB 1.1 MB/s eta 0:00:01\n",
      "\u001b[?25hCollecting shapely\n",
      "  Downloading Shapely-1.7.1-cp38-cp38-macosx_10_9_x86_64.whl (1.0 MB)\n",
      "\u001b[K     |████████████████████████████████| 1.0 MB 1.4 MB/s eta 0:00:01\n",
      "\u001b[?25hCollecting efficientnet==1.0.0\n",
      "  Downloading efficientnet-1.0.0-py3-none-any.whl (17 kB)\n",
      "Collecting keras-applications<=1.0.8,>=1.0.7\n",
      "  Downloading Keras_Applications-1.0.8-py3-none-any.whl (50 kB)\n",
      "\u001b[K     |████████████████████████████████| 50 kB 1.8 MB/s eta 0:00:01\n",
      "\u001b[?25hCollecting scikit-image\n",
      "  Downloading scikit_image-0.18.1-cp38-cp38-macosx_10_9_x86_64.whl (12.7 MB)\n",
      "\u001b[K     |████████████████████████████████| 12.7 MB 1.9 MB/s eta 0:00:01\n",
      "\u001b[?25hRequirement already satisfied: numpy>=1.9.1 in /usr/local/lib/python3.8/site-packages (from keras-applications<=1.0.8,>=1.0.7->efficientnet==1.0.0->keras-ocr) (1.18.5)\n",
      "Requirement already satisfied: h5py in /usr/local/lib/python3.8/site-packages (from keras-applications<=1.0.8,>=1.0.7->efficientnet==1.0.0->keras-ocr) (2.10.0)\n",
      "Requirement already satisfied: six in /usr/local/lib/python3.8/site-packages (from h5py->keras-applications<=1.0.8,>=1.0.7->efficientnet==1.0.0->keras-ocr) (1.15.0)\n",
      "Requirement already satisfied: Pillow in /usr/local/lib/python3.8/site-packages (from imgaug->keras-ocr) (7.2.0)\n",
      "Requirement already satisfied: matplotlib in /usr/local/lib/python3.8/site-packages (from imgaug->keras-ocr) (3.3.3)\n",
      "Requirement already satisfied: opencv-python in /usr/local/lib/python3.8/site-packages (from imgaug->keras-ocr) (4.3.0.36)\n",
      "Collecting imageio\n",
      "  Downloading imageio-2.9.0-py3-none-any.whl (3.3 MB)\n",
      "\u001b[K     |████████████████████████████████| 3.3 MB 2.0 MB/s eta 0:00:01     |██████████████████████████▉     | 2.8 MB 2.0 MB/s eta 0:00:01\n",
      "\u001b[?25hRequirement already satisfied: scipy in /usr/local/lib/python3.8/site-packages (from imgaug->keras-ocr) (1.5.4)\n",
      "Collecting networkx>=2.0\n",
      "  Downloading networkx-2.5-py3-none-any.whl (1.6 MB)\n",
      "\u001b[K     |████████████████████████████████| 1.6 MB 2.3 MB/s eta 0:00:01\n",
      "\u001b[?25hCollecting tifffile>=2019.7.26\n",
      "  Downloading tifffile-2021.2.26-py3-none-any.whl (160 kB)\n",
      "\u001b[K     |████████████████████████████████| 160 kB 2.8 MB/s eta 0:00:01\n",
      "\u001b[?25hCollecting PyWavelets>=1.1.1\n",
      "  Downloading PyWavelets-1.1.1-cp38-cp38-macosx_10_9_x86_64.whl (4.3 MB)\n",
      "\u001b[K     |████████████████████████████████| 4.3 MB 1.6 MB/s eta 0:00:01\n",
      "\u001b[?25hRequirement already satisfied: cycler>=0.10 in /usr/local/lib/python3.8/site-packages (from matplotlib->imgaug->keras-ocr) (0.10.0)\n",
      "Requirement already satisfied: kiwisolver>=1.0.1 in /usr/local/lib/python3.8/site-packages (from matplotlib->imgaug->keras-ocr) (1.2.0)\n",
      "Requirement already satisfied: pyparsing!=2.0.4,!=2.1.2,!=2.1.6,>=2.0.3 in /usr/local/lib/python3.8/site-packages (from matplotlib->imgaug->keras-ocr) (2.4.7)\n",
      "Requirement already satisfied: python-dateutil>=2.1 in /Users/iseunghwan/Library/Python/3.8/lib/python/site-packages (from matplotlib->imgaug->keras-ocr) (2.8.1)\n",
      "Requirement already satisfied: decorator>=4.3.0 in /Users/iseunghwan/Library/Python/3.8/lib/python/site-packages (from networkx>=2.0->scikit-image->efficientnet==1.0.0->keras-ocr) (4.4.2)\n",
      "Building wheels for collected packages: keras-ocr\n",
      "  Building wheel for keras-ocr (setup.py) ... \u001b[?25ldone\n",
      "\u001b[?25h  Created wheel for keras-ocr: filename=keras_ocr-0.8.6-py3-none-any.whl size=42936 sha256=f700c06ac655f705da481121bbd6212cbc44905cf8d5fd568930b4988342385c\n",
      "  Stored in directory: /Users/iseunghwan/Library/Caches/pip/wheels/30/a7/25/6edd55a1d37a00963af17c7c719945d47f8cbe035a0ff1393f\n",
      "Successfully built keras-ocr\n",
      "Installing collected packages: tifffile, PyWavelets, networkx, imageio, shapely, scikit-image, keras-applications, validators, tqdm, pyclipper, imgaug, fonttools, essential-generators, efficientnet, keras-ocr\n",
      "Successfully installed PyWavelets-1.1.1 efficientnet-1.0.0 essential-generators-1.0 fonttools-4.21.1 imageio-2.9.0 imgaug-0.4.0 keras-applications-1.0.8 keras-ocr-0.8.6 networkx-2.5 pyclipper-1.2.1 scikit-image-0.18.1 shapely-1.7.1 tifffile-2021.2.26 tqdm-4.58.0 validators-0.18.2\n"
     ]
    }
   ],
   "source": [
    "!pip install keras-ocr"
   ]
  },
  {
   "cell_type": "code",
   "execution_count": null,
   "metadata": {},
   "outputs": [
    {
     "name": "stdout",
     "output_type": "stream",
     "text": [
      "Looking for /Users/iseunghwan/.keras-ocr/craft_mlt_25k.h5\n",
      "Downloading /Users/iseunghwan/.keras-ocr/craft_mlt_25k.h5\n",
      "WARNING:tensorflow:From /usr/local/lib/python3.8/site-packages/tensorflow/python/util/dispatch.py:201: sparse_to_dense (from tensorflow.python.ops.sparse_ops) is deprecated and will be removed in a future version.\n",
      "Instructions for updating:\n",
      "Create a `tf.sparse.SparseTensor` and use `tf.sparse.to_dense` instead.\n",
      "Looking for /Users/iseunghwan/.keras-ocr/crnn_kurapan.h5\n",
      "Downloading /Users/iseunghwan/.keras-ocr/crnn_kurapan.h5\n"
     ]
    }
   ],
   "source": [
    "import matplotlib.pyplot as plt\n",
    "import keras_ocr\n",
    "import cv2\n",
    "\n",
    "pipeline = keras_ocr.pipeline.Pipeline()\n",
    "\n",
    "image = cv2.imread('./image/199000362.jpg')\n",
    "\n",
    "prediction = pipeline.recognize(image)"
   ]
  },
  {
   "cell_type": "code",
   "execution_count": null,
   "metadata": {},
   "outputs": [],
   "source": [
    "print(prediction)"
   ]
  },
  {
   "cell_type": "code",
   "execution_count": null,
   "metadata": {},
   "outputs": [],
   "source": []
  }
 ],
 "metadata": {
  "kernelspec": {
   "display_name": "Python 3",
   "language": "python",
   "name": "python3"
  },
  "language_info": {
   "codemirror_mode": {
    "name": "ipython",
    "version": 3
   },
   "file_extension": ".py",
   "mimetype": "text/x-python",
   "name": "python",
   "nbconvert_exporter": "python",
   "pygments_lexer": "ipython3",
   "version": "3.8.6"
  }
 },
 "nbformat": 4,
 "nbformat_minor": 4
}
